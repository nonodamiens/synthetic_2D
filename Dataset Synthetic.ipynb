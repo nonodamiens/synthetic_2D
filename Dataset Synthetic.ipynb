{
 "cells": [
  {
   "cell_type": "markdown",
   "metadata": {},
   "source": [
    "# Apprendre à utiliser et visualiser un Dataset Synthetic\n",
    "\n",
    "A la fin de ce workshop vous saurez :\n",
    "\n",
    "- Adopter un workflow de base avec GitHub (Develop, Verify, Commit)\n",
    "- Générer un dataset synthetic de classification 2D avec la librairie Sklearn\n",
    "- Visualiser les classes du Dataset sur un graphisme 2D\n",
    "- Visualiser les prédictions de votre réseau de neurones sur un graphique 2D\n",
    "- (Bonus)Introiduction au refactoring. Vous refactoriserez un code jupyther pour en faire une fonction."
   ]
  },
  {
   "cell_type": "code",
   "execution_count": 2,
   "metadata": {},
   "outputs": [],
   "source": [
    "# Importer mes librairies utiles\n",
    "\n",
    "import numpy as np\n",
    "import matplotlib.pyplot as plt\n",
    "\n",
    "from sklearn.datasets import make_moons, make_circles, make_classification"
   ]
  },
  {
   "cell_type": "code",
   "execution_count": 4,
   "metadata": {},
   "outputs": [
    {
     "name": "stdout",
     "output_type": "stream",
     "text": [
      "150\n"
     ]
    }
   ],
   "source": [
    "# Créer un dataset séparable par un ligne droite\n",
    "\n",
    "train_size = 100\n",
    "test_size = 50\n",
    "total_size = train_size + test_size\n",
    "\n",
    "print(total_size)\n",
    "\n",
    "X, Y = make_classification(n_samples = total_size, n_features = 2, n_redundant = 0, n_informative = 2, random_state = 1, n_clusters_per_class = 1)"
   ]
  },
  {
   "cell_type": "code",
   "execution_count": 5,
   "metadata": {},
   "outputs": [
    {
     "data": {
      "text/plain": [
       "((150, 2), (150,))"
      ]
     },
     "execution_count": 5,
     "metadata": {},
     "output_type": "execute_result"
    }
   ],
   "source": [
    "X.shape, Y.shape"
   ]
  },
  {
   "cell_type": "code",
   "execution_count": 7,
   "metadata": {},
   "outputs": [
    {
     "name": "stdout",
     "output_type": "stream",
     "text": [
      "(150, 1)\n"
     ]
    }
   ],
   "source": [
    "Y = Y.reshape(-1, 1)\n",
    "\n",
    "print(Y.shape)"
   ]
  }
 ],
 "metadata": {
  "kernelspec": {
   "display_name": "Python 3",
   "language": "python",
   "name": "python3"
  },
  "language_info": {
   "codemirror_mode": {
    "name": "ipython",
    "version": 3
   },
   "file_extension": ".py",
   "mimetype": "text/x-python",
   "name": "python",
   "nbconvert_exporter": "python",
   "pygments_lexer": "ipython3",
   "version": "3.7.1"
  }
 },
 "nbformat": 4,
 "nbformat_minor": 2
}
