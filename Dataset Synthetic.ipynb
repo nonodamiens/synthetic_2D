{
 "cells": [
  {
   "cell_type": "markdown",
   "metadata": {},
   "source": [
    "# Apprendre à utiliser et visualiser un Dataset Synthetic\n",
    "\n",
    "A la fin de ce workshop vous saurez :\n",
    "\n",
    "- Adopter un workflow de base avec GitHub (Develop, Verify, Commit)\n",
    "- Générer un dataset synthetic de classification 2D avec la librairie Sklearn\n",
    "- Visualiser les classes du Dataset sur un graphisme 2D\n",
    "- Visualiser les prédictions de votre réseau de neurones sur un graphique 2D\n",
    "- (Bonus)Introiduction au refactoring. Vous refactoriserez un code jupyther pour en faire une fonction."
   ]
  },
  {
   "cell_type": "code",
   "execution_count": 2,
   "metadata": {},
   "outputs": [],
   "source": [
    "# Importer mes librairies utiles\n",
    "\n",
    "import numpy as np\n",
    "import matplotlib.pyplot as plt\n",
    "\n",
    "from sklearn.datasets import make_moons, make_circles, make_classification"
   ]
  },
  {
   "cell_type": "code",
   "execution_count": 4,
   "metadata": {},
   "outputs": [
    {
     "name": "stdout",
     "output_type": "stream",
     "text": [
      "150\n"
     ]
    }
   ],
   "source": [
    "# Créer un dataset séparable par un ligne droite\n",
    "\n",
    "train_size = 100\n",
    "test_size = 50\n",
    "total_size = train_size + test_size\n",
    "\n",
    "print(total_size)\n",
    "\n",
    "X, Y = make_classification(n_samples = total_size, n_features = 2, n_redundant = 0, n_informative = 2, random_state = 1, n_clusters_per_class = 1)"
   ]
  },
  {
   "cell_type": "code",
   "execution_count": 5,
   "metadata": {},
   "outputs": [
    {
     "data": {
      "text/plain": [
       "((150, 2), (150,))"
      ]
     },
     "execution_count": 5,
     "metadata": {},
     "output_type": "execute_result"
    }
   ],
   "source": [
    "X.shape, Y.shape"
   ]
  },
  {
   "cell_type": "code",
   "execution_count": 7,
   "metadata": {},
   "outputs": [
    {
     "name": "stdout",
     "output_type": "stream",
     "text": [
      "(150, 1)\n"
     ]
    }
   ],
   "source": [
    "Y = Y.reshape(-1, 1)\n",
    "\n",
    "print(Y.shape)"
   ]
  },
  {
   "cell_type": "code",
   "execution_count": 8,
   "metadata": {},
   "outputs": [
    {
     "data": {
      "text/plain": [
       "(array([[ 0.05065666, -1.04565042],\n",
       "        [ 1.89212817,  0.14141529],\n",
       "        [ 2.07731874, -1.10588188],\n",
       "        [-0.21268004,  1.55015655],\n",
       "        [ 1.33003867, -0.93929107],\n",
       "        [ 0.9684331 , -1.14497058],\n",
       "        [-0.12252602, -0.92897868],\n",
       "        [-2.11442959, -0.72665594],\n",
       "        [ 1.30958609, -1.03968501],\n",
       "        [ 1.22239591, -1.00761238]]), array([[1],\n",
       "        [0],\n",
       "        [1],\n",
       "        [0],\n",
       "        [1],\n",
       "        [1],\n",
       "        [1],\n",
       "        [1],\n",
       "        [1],\n",
       "        [1]]))"
      ]
     },
     "execution_count": 8,
     "metadata": {},
     "output_type": "execute_result"
    }
   ],
   "source": [
    "X[:10], Y[:10]"
   ]
  },
  {
   "cell_type": "code",
   "execution_count": 9,
   "metadata": {},
   "outputs": [
    {
     "name": "stdout",
     "output_type": "stream",
     "text": [
      "(100, 2) (100, 1)\n",
      "(50, 2) (50, 1)\n"
     ]
    }
   ],
   "source": [
    "# Séparer en train / test\n",
    "\n",
    "X_train, Y_train = (X[:train_size], Y[:train_size]\n",
    "X_test, Y_test = (X[-test_size:], Y[-test_size:])\n",
    "\n",
    "assert X_test.shape[0] + X_train.shape[0] == total_size\n",
    "assert Y_test.shape[0] + Y_train.shape[0] == total_size\n",
    "\n",
    "print(X_train.shape, Y_train.shape)\n",
    "print(X_test.shape, Y_test.shape)"
   ]
  }
 ],
 "metadata": {
  "kernelspec": {
   "display_name": "Python 3",
   "language": "python",
   "name": "python3"
  },
  "language_info": {
   "codemirror_mode": {
    "name": "ipython",
    "version": 3
   },
   "file_extension": ".py",
   "mimetype": "text/x-python",
   "name": "python",
   "nbconvert_exporter": "python",
   "pygments_lexer": "ipython3",
   "version": "3.7.1"
  }
 },
 "nbformat": 4,
 "nbformat_minor": 2
}
